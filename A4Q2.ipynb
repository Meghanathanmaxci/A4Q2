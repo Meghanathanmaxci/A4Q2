{
 "cells": [
  {
   "cell_type": "markdown",
   "id": "8b17302a",
   "metadata": {},
   "source": [
    "# wapp to triple all numbers of a given list of integers(using map()functions)"
   ]
  },
  {
   "cell_type": "code",
   "execution_count": 6,
   "id": "ae370ccd",
   "metadata": {},
   "outputs": [
    {
     "name": "stdout",
     "output_type": "stream",
     "text": [
      "The required output is =  [3, 6, 9, 12, 15, 18, 21]\n"
     ]
    }
   ],
   "source": [
    "l = [1,2,3,4,5,6,7]\n",
    "def triple(num):\n",
    "    return (num*3)\n",
    "output = list(map(triple,l))\n",
    "print('The required output is = ',output)"
   ]
  },
  {
   "cell_type": "code",
   "execution_count": null,
   "id": "c16e5273",
   "metadata": {},
   "outputs": [],
   "source": []
  }
 ],
 "metadata": {
  "kernelspec": {
   "display_name": "Python 3 (ipykernel)",
   "language": "python",
   "name": "python3"
  },
  "language_info": {
   "codemirror_mode": {
    "name": "ipython",
    "version": 3
   },
   "file_extension": ".py",
   "mimetype": "text/x-python",
   "name": "python",
   "nbconvert_exporter": "python",
   "pygments_lexer": "ipython3",
   "version": "3.9.7"
  }
 },
 "nbformat": 4,
 "nbformat_minor": 5
}
